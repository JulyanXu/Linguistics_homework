{
 "cells": [
  {
   "cell_type": "code",
   "execution_count": null,
   "id": "22f8a4bf74a05a5",
   "metadata": {
    "collapsed": false
   },
   "outputs": [],
   "source": [
    "import pickle\n",
    "import numpy as np\n",
    "\n",
    "# Load the vocabulary file\n",
    "with open('1900-vocab.pkl', 'rb') as vocab_file:\n",
    "    vocab = pickle.load(vocab_file)\n",
    "\n",
    "# Load the NumPy array file\n",
    "w = np.load('1900-w.npy')\n",
    "\n",
    "# Inspecting the contents\n",
    "vocab_sample = vocab[:5]  # Sample of the vocabulary, showing the first 5 items\n",
    "w_shape = w.shape  # Shape of the NumPy array to understand its dimensions\n",
    "\n",
    "vocab_sample, w_shape\n"
   ]
  },
  {
   "cell_type": "code",
   "execution_count": null,
   "id": "66fe424e20d6ee64",
   "metadata": {
    "collapsed": false
   },
   "outputs": [],
   "source": [
    "import numpy as np\n",
    "\n",
    "# Assuming `vocab` is your vocabulary list and `w` is your embeddings numpy array\n",
    "\n",
    "# Step 1: Find the index of \"gay\" in the vocabulary\n",
    "word = \"gay\"\n",
    "try:\n",
    "    index = vocab.index(word)\n",
    "except ValueError:\n",
    "    print(f\"Word '{word}' not found in vocabulary.\")\n",
    "    index = None\n",
    "\n",
    "if index is not None:\n",
    "    # Step 2: Calculate cosine similarity between \"gay\"'s embedding and all others\n",
    "    # Normalize the vectors to unit length\n",
    "    w_normalized = w / np.linalg.norm(w, axis=1, keepdims=True)\n",
    "    word_vector = w_normalized[index]\n",
    "    similarities = np.dot(w_normalized, word_vector)\n",
    "    \n",
    "    # Step 3: Sort the words by similarity\n",
    "    # Exclude the word itself by setting its similarity to -1\n",
    "    similarities[index] = -1\n",
    "    nearest_indices = np.argsort(-similarities)[:10]  # Get indices of top-10 nearest words\n",
    "    \n",
    "    # Step 4: Display the nearest words\n",
    "    nearest_words = [vocab[i] for i in nearest_indices]\n",
    "    print(\"Nearest words to 'gay':\", nearest_words)"
   ]
  },
  {
   "cell_type": "code",
   "execution_count": 60,
   "id": "3f9bc96021626c40",
   "metadata": {
    "ExecuteTime": {
     "end_time": "2024-02-19T07:07:10.104010700Z",
     "start_time": "2024-02-19T07:07:08.044181Z"
    },
    "collapsed": false
   },
   "outputs": [
    {
     "name": "stderr",
     "output_type": "stream",
     "text": [
      "C:\\Users\\15810\\AppData\\Local\\Temp\\ipykernel_10080\\1858856663.py:11: RuntimeWarning: invalid value encountered in divide\n",
      "  w_normalized = w / np.linalg.norm(w, axis=1, keepdims=True)\n"
     ]
    },
    {
     "name": "stdout",
     "output_type": "stream",
     "text": [
      "Nearest words to 'gay' in 1900s:\n",
      "lively: 0.4500\n",
      "cheery: 0.4390\n",
      "lark: 0.4136\n",
      "humoured: 0.4119\n",
      "jovial: 0.4013\n",
      "apparel: 0.3890\n",
      "cheerful: 0.3850\n",
      "brilliant: 0.3829\n",
      "natured: 0.3627\n",
      "dresses: 0.3527\n",
      "Nearest words to 'gay' in 1950s:\n",
      "jovial: 0.4178\n",
      "cheerful: 0.3944\n",
      "lively: 0.3550\n",
      "thoughtless: 0.3496\n",
      "humoured: 0.3487\n",
      "careless: 0.3483\n",
      "witty: 0.3336\n",
      "merry: 0.3314\n",
      "dresses: 0.3295\n",
      "joyous: 0.3263\n",
      "Nearest words to 'gay' in 1990s:\n",
      "lesbian: 0.6767\n",
      "transgender: 0.6188\n",
      "lesbians: 0.5500\n",
      "katz: 0.5465\n",
      "bisexual: 0.5296\n",
      "bisexuals: 0.4834\n",
      "coalition: 0.4513\n",
      "gays: 0.4273\n",
      "bi: 0.4142\n",
      "gras: 0.4139\n"
     ]
    }
   ],
   "source": [
    "import numpy as np\n",
    "import pickle\n",
    "\n",
    "def find_nearest_words(vocab_file_path, embeddings_file_path, target_word, top_n=10):\n",
    "    # Load the vocabulary and embeddings\n",
    "    with open(vocab_file_path, 'rb') as file:\n",
    "        vocab = pickle.load(file)\n",
    "    w = np.load(embeddings_file_path)\n",
    "    \n",
    "    # Normalize embeddings\n",
    "    w_normalized = w / np.linalg.norm(w, axis=1, keepdims=True)\n",
    "    \n",
    "    # Check if the target word is in the vocabulary\n",
    "    if target_word in vocab:\n",
    "        index = vocab.index(target_word)\n",
    "        word_vector = w_normalized[index]\n",
    "        \n",
    "        # Calculate cosine similarity\n",
    "        similarities = np.dot(w_normalized, word_vector)\n",
    "        similarities[index] = -1  # Ignore the word itself\n",
    "        \n",
    "        # Find the nearest words\n",
    "        nearest_indices = np.argsort(-similarities)[:top_n]\n",
    "        nearest_words = [vocab[i] for i in nearest_indices]\n",
    "        nearest_similarities = similarities[nearest_indices]\n",
    "        \n",
    "        # Print the nearest words and their similarities\n",
    "        print(f\"Nearest words to '{target_word}' in {vocab_file_path.split('-')[0]}s:\")\n",
    "        for word, similarity in zip(nearest_words, nearest_similarities):\n",
    "            print(f\"{word}: {similarity:.4f}\")\n",
    "    else:\n",
    "        print(f\"Word '{target_word}' not found in the vocabulary for {vocab_file_path.split('-')[0]}s.\")\n",
    "\n",
    "# Example usage for the decades of interest\n",
    "find_nearest_words('1900-vocab.pkl', '1900-w.npy', 'gay')\n",
    "find_nearest_words('1950-vocab.pkl', '1950-w.npy', 'gay')\n",
    "find_nearest_words('1990-vocab.pkl', '1990-w.npy', 'gay')"
   ]
  },
  {
   "cell_type": "code",
   "execution_count": 61,
   "id": "8cf8296fdbf3d53f",
   "metadata": {
    "ExecuteTime": {
     "end_time": "2024-02-19T07:13:07.711930Z",
     "start_time": "2024-02-19T07:13:06.041103800Z"
    },
    "collapsed": false
   },
   "outputs": [
    {
     "name": "stderr",
     "output_type": "stream",
     "text": [
      "C:\\Users\\15810\\AppData\\Local\\Temp\\ipykernel_10080\\1858856663.py:11: RuntimeWarning: invalid value encountered in divide\n",
      "  w_normalized = w / np.linalg.norm(w, axis=1, keepdims=True)\n"
     ]
    },
    {
     "name": "stdout",
     "output_type": "stream",
     "text": [
      "Nearest words to 'mail' in 1850s:\n",
      "velvet: 0.6453\n",
      "horn: 0.6427\n",
      "loaded: 0.6394\n",
      "silk: 0.6354\n",
      "lace: 0.6341\n",
      "cap: 0.6296\n",
      "powder: 0.6282\n",
      "bowl: 0.6247\n",
      "feathers: 0.6244\n",
      "robe: 0.6205\n",
      "Nearest words to 'mail' in 1900s:\n",
      "dover: 0.4131\n",
      "coaches: 0.3572\n",
      "coach: 0.3517\n",
      "coat: 0.3404\n",
      "hackney: 0.3396\n",
      "ordered: 0.3352\n",
      "boat: 0.3271\n",
      "vest: 0.3262\n",
      "cart: 0.3197\n",
      "coats: 0.3163\n",
      "Nearest words to 'mail' in 1990s:\n",
      "coupon: 0.4346\n",
      "102902: 0.4256\n",
      "hahn: 0.4064\n",
      "backlist: 0.3979\n",
      "relayed: 0.3869\n",
      "fax: 0.3762\n",
      "ba: 0.3637\n",
      "fawcett: 0.3590\n",
      "cods: 0.3582\n",
      "letter: 0.3521\n"
     ]
    }
   ],
   "source": [
    "find_nearest_words('1850-vocab.pkl', '1850-w.npy', 'mail')\n",
    "find_nearest_words('1900-vocab.pkl', '1900-w.npy', 'mail')\n",
    "find_nearest_words('1990-vocab.pkl', '1990-w.npy', 'mail')"
   ]
  },
  {
   "cell_type": "code",
   "execution_count": 62,
   "id": "c5d9b2b8b21e9c21",
   "metadata": {
    "ExecuteTime": {
     "end_time": "2024-02-19T07:13:31.104160Z",
     "start_time": "2024-02-19T07:13:29.899250500Z"
    },
    "collapsed": false
   },
   "outputs": [
    {
     "name": "stderr",
     "output_type": "stream",
     "text": [
      "C:\\Users\\15810\\AppData\\Local\\Temp\\ipykernel_10080\\1858856663.py:11: RuntimeWarning: invalid value encountered in divide\n",
      "  w_normalized = w / np.linalg.norm(w, axis=1, keepdims=True)\n"
     ]
    },
    {
     "name": "stdout",
     "output_type": "stream",
     "text": [
      "Nearest words to 'stress' in 1900s:\n",
      "excessive: 0.3580\n",
      "owing: 0.3377\n",
      "strain: 0.3306\n",
      "violent: 0.3233\n",
      "indications: 0.3168\n",
      "storm: 0.3111\n",
      "hardships: 0.3108\n",
      "degradation: 0.3098\n",
      "mental: 0.3026\n",
      "fatigue: 0.3024\n",
      "Nearest words to 'stress' in 1950s:\n",
      "weakened: 0.3575\n",
      "strife: 0.3203\n",
      "consequent: 0.3177\n",
      "exhaustion: 0.3130\n",
      "emphasis: 0.3025\n",
      "hardships: 0.3003\n",
      "memorable: 0.2985\n",
      "futility: 0.2905\n",
      "abated: 0.2859\n",
      "strain: 0.2830\n",
      "Nearest words to 'stress' in 1990s:\n",
      "traumatic: 0.4323\n",
      "strain: 0.3782\n",
      "emphasis: 0.3280\n",
      "delaying: 0.3145\n",
      "exhaustion: 0.3124\n",
      "pressure: 0.3102\n",
      "trauma: 0.3070\n",
      "attach: 0.3030\n",
      "forethought: 0.2972\n",
      "usage: 0.2953\n"
     ]
    }
   ],
   "source": [
    "find_nearest_words('1900-vocab.pkl', '1900-w.npy', 'stress')\n",
    "find_nearest_words('1950-vocab.pkl', '1950-w.npy', 'stress')\n",
    "find_nearest_words('1990-vocab.pkl', '1990-w.npy', 'stress')"
   ]
  },
  {
   "cell_type": "code",
   "execution_count": null,
   "id": "4d153f40ad5f666a",
   "metadata": {
    "collapsed": false
   },
   "outputs": [],
   "source": []
  }
 ],
 "metadata": {
  "kernelspec": {
   "display_name": "Python 3",
   "language": "python",
   "name": "python3"
  },
  "language_info": {
   "codemirror_mode": {
    "name": "ipython",
    "version": 2
   },
   "file_extension": ".py",
   "mimetype": "text/x-python",
   "name": "python",
   "nbconvert_exporter": "python",
   "pygments_lexer": "ipython2",
   "version": "2.7.6"
  }
 },
 "nbformat": 4,
 "nbformat_minor": 5
}
